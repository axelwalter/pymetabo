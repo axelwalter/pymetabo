{
 "cells": [
  {
   "cell_type": "code",
   "execution_count": null,
   "metadata": {},
   "outputs": [],
   "source": [
    "import os\n",
    "from pymetabo.core import *\n",
    "from pymetabo.helpers import *\n",
    "from pymetabo.dataframes import *"
   ]
  },
  {
   "cell_type": "markdown",
   "metadata": {},
   "source": [
    "Specifiy input mzML, result and interim directories"
   ]
  },
  {
   "cell_type": "code",
   "execution_count": null,
   "metadata": {},
   "outputs": [],
   "source": [
    "mzML_dir = \"data/mzML\"\n",
    "results = \"results\"\n",
    "interim = Helper().reset_directory(os.path.join(results, \"interim\"))"
   ]
  },
  {
   "cell_type": "code",
   "execution_count": null,
   "metadata": {},
   "outputs": [],
   "source": [
    "for mzml in os.listdir(mzML_dir):\n",
    "    print(mzml)"
   ]
  },
  {
   "cell_type": "markdown",
   "metadata": {},
   "source": [
    "Precursor Correction to highest intensity"
   ]
  },
  {
   "cell_type": "code",
   "execution_count": null,
   "metadata": {},
   "outputs": [],
   "source": [
    "PrecursorCorrector().to_highest_intensity(mzML_dir, os.path.join(interim, \"mzML_PCpeak\"))"
   ]
  },
  {
   "cell_type": "markdown",
   "metadata": {},
   "source": [
    "Feature detection by FFM"
   ]
  },
  {
   "cell_type": "code",
   "execution_count": null,
   "metadata": {},
   "outputs": [],
   "source": [
    "\n",
    "FeatureFinderMetabo().run(os.path.join(interim, \"mzML_PCpeak\"), os.path.join(interim, \"FFM\"),\n",
    "                        {\"noise_threshold_int\": 10000.0,\n",
    "                        \"mass_error_ppm\": 10.0,\n",
    "                        \"remove_single_traces\": \"true\"})"
   ]
  },
  {
   "cell_type": "markdown",
   "metadata": {},
   "source": [
    "Precursor Correction to nearest feature\n"
   ]
  },
  {
   "cell_type": "code",
   "execution_count": null,
   "metadata": {},
   "outputs": [],
   "source": [
    "PrecursorCorrector().to_nearest_feature(os.path.join(interim, \"mzML_PCpeak\"),\n",
    "                                        os.path.join(interim, \"mzML_PCfeature\"),\n",
    "                                        os.path.join(interim, \"FFM\"))"
   ]
  },
  {
   "cell_type": "markdown",
   "metadata": {},
   "source": [
    "Map alignment of FetureMaps and mzML files"
   ]
  },
  {
   "cell_type": "code",
   "execution_count": null,
   "metadata": {},
   "outputs": [],
   "source": [
    "MapAligner().run(os.path.join(interim, \"FFM\"), os.path.join(interim, \"FFM_aligned\"),\n",
    "                os.path.join(interim, \"Trafo\"),\n",
    "                {\"max_num_peaks_considered\": -1,\n",
    "                \"superimposer:mz_pair_max_distance\": 0.05,\n",
    "                \"pairfinder:distance_MZ:max_difference\": 10.0,\n",
    "                \"pairfinder:distance_MZ:unit\": \"ppm\"})\n",
    "\n",
    "MapAligner().run(os.path.join(interim, \"mzML_PCfeature\"), os.path.join(interim, \"mzML_aligned\"),\n",
    "                os.path.join(interim, \"Trafo\"))"
   ]
  },
  {
   "cell_type": "markdown",
   "metadata": {},
   "source": [
    "Feature linking"
   ]
  },
  {
   "cell_type": "code",
   "execution_count": null,
   "metadata": {},
   "outputs": [],
   "source": [
    "FeatureLinker().run(os.path.join(interim, \"FFM_aligned\"),\n",
    "                os.path.join(interim,  \"FFM.consensusXML\"))\n",
    "\n",
    "DataFrames().create_consensus_table(os.path.join(\n",
    "    interim, \"FFM.consensusXML\"), os.path.join(interim, \"FFM_consensus.tsv\"))"
   ]
  },
  {
   "cell_type": "markdown",
   "metadata": {},
   "source": [
    "Requantification with FFMID"
   ]
  },
  {
   "cell_type": "code",
   "execution_count": null,
   "metadata": {},
   "outputs": [],
   "source": [
    "FeatureMapHelper().split_consensus_map(os.path.join(interim,  \"FFM.consensusXML\"),\n",
    "                                    os.path.join(interim,  \"FFM_complete.consensusXML\"),\n",
    "                                    os.path.join(interim,  \"FFM_missing.consensusXML\"))\n",
    "\n",
    "FeatureMapHelper().consensus_to_feature_maps(os.path.join(interim,  \"FFM_complete.consensusXML\"),\n",
    "                                            os.path.join(interim, \"FFM_aligned\"),\n",
    "                                            os.path.join(interim, \"FFM_complete\"))\n",
    "\n",
    "FeatureFinderMetaboIdent().run(os.path.join(interim, \"mzML_aligned\"),\n",
    "                            os.path.join(interim,  \"FFMID\"),\n",
    "                            os.path.join(interim,  \"FFM_missing.consensusXML\"),\n",
    "                            {\"detect:peak_width\": 60.0})\n",
    "\n",
    "FeatureMapHelper().merge_feature_maps(os.path.join(interim, \"FeatureMaps_merged\"), os.path.join(\n",
    "    interim, \"FFM_complete\"), os.path.join(interim, \"FFMID\"))"
   ]
  },
  {
   "cell_type": "markdown",
   "metadata": {},
   "source": [
    "Adduct decharging "
   ]
  },
  {
   "cell_type": "code",
   "execution_count": null,
   "metadata": {},
   "outputs": [],
   "source": [
    "MetaboliteAdductDecharger().run(os.path.join(interim, \"FeatureMaps_merged\"), os.path.join(interim, \"FeatureMaps_decharged\"),\n",
    "                            {\"potential_adducts\": [b\"H:+:0.5\", b\"Na:+:0.3\", b\"H-1O-1:+:0.2\"],\n",
    "                            \"charge_min\": 1,\n",
    "                            \"charge_max\": 3,\n",
    "                            \"max_neutrals\": 2})"
   ]
  },
  {
   "cell_type": "markdown",
   "metadata": {},
   "source": [
    "Map MS2 spectra to features"
   ]
  },
  {
   "cell_type": "code",
   "execution_count": null,
   "metadata": {},
   "outputs": [],
   "source": [
    "\n",
    "MapID().run(os.path.join(interim, \"mzML_aligned\"), os.path.join(\n",
    "    interim, \"FeatureMaps_decharged\"), os.path.join(interim, \"FeatureMaps_ID_mapped\"))"
   ]
  },
  {
   "cell_type": "markdown",
   "metadata": {},
   "source": [
    "Link re-quantified features to final ConsensusMap"
   ]
  },
  {
   "cell_type": "code",
   "execution_count": null,
   "metadata": {},
   "outputs": [],
   "source": [
    "FeatureLinker().run(os.path.join(interim, \"FeatureMaps_ID_mapped\"),\n",
    "                os.path.join(interim, \"FeatureMatrix.consensusXML\"))\n",
    "\n",
    "DataFrames().create_consensus_table(os.path.join(\n",
    "    interim, \"FeatureMatrix.consensusXML\"), os.path.join(results, \"FeatureMatrix.tsv\"))"
   ]
  },
  {
   "cell_type": "code",
   "execution_count": null,
   "metadata": {},
   "outputs": [],
   "source": [
    "Sirius().run()"
   ]
  }
 ],
 "metadata": {
  "interpreter": {
   "hash": "1d92193107b2c1fde5349325fa7e4180df63966062ebb6172612daf2925f9acf"
  },
  "kernelspec": {
   "display_name": "Python 3.9.10 ('base')",
   "language": "python",
   "name": "python3"
  },
  "language_info": {
   "codemirror_mode": {
    "name": "ipython",
    "version": 3
   },
   "file_extension": ".py",
   "mimetype": "text/x-python",
   "name": "python",
   "nbconvert_exporter": "python",
   "pygments_lexer": "ipython3",
   "version": "3.9.12"
  },
  "orig_nbformat": 4
 },
 "nbformat": 4,
 "nbformat_minor": 2
}
